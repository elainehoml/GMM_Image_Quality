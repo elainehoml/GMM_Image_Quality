{
 "cells": [
  {
   "cell_type": "markdown",
   "metadata": {},
   "source": [
    "# Calculating SNR and CNR with Gaussian Mixture Models\n",
    "## Phantom Validation\n",
    "\n",
    "The signal-to-noise ratio (SNR) and contrast-to-noise ratio (CNR) of a 3D stack of greyscale images can be determined from the histogram of the grey values in the stack. Each material in the image (e.g. air, wax, tissue) is represented by a Gaussian distribution of grey values with a mean $\\mu$, standard deviation $\\sigma$ and weight <i><b>w</i></b>. SNR and CNR then calculated by the following equations:\n",
    "\n",
    "\\begin{equation*}\n",
    "SNR = \\frac{\\mu_A}{\\sigma_B}\n",
    "\\end{equation*}\n",
    "\n",
    "\\begin{equation*}\n",
    "CNR = \\frac{|\\mu_A - \\mu_B|}{\\sqrt{\\sigma_A^2+\\sigma_B^2}}\n",
    "\\end{equation*}\n",
    "\n",
    "A phantom was created to validate this SNR and CNR measure. An example 3D micro-CT image stack kindly provided by Harry Rossides was segmented to produce three masks, each corresponding to air, wax and tissue respectively. Each pixel within each mask was assigned a random grey value from a normal distribution with a known $\\mu$ and $\\sigma$. Several tests are then performed with this phantom with known Gaussian distributions of each material."
   ]
  },
  {
   "cell_type": "code",
   "execution_count": 2,
   "metadata": {},
   "outputs": [],
   "source": [
    "%run \"Phantom_Validation_Hidden.py\" # Imports functions and libraries to calculate Q"
   ]
  },
  {
   "cell_type": "markdown",
   "metadata": {},
   "source": [
    "# Phantom Generation\n",
    "\n",
    "The first slice of each mask can be viewed in the cell below."
   ]
  },
  {
   "cell_type": "code",
   "execution_count": null,
   "metadata": {},
   "outputs": [],
   "source": [
    "image_names = ['Air','Wax','Tissue']\n",
    "fig = plt.figure(figsize = [15.,5.])\n",
    "plt.style.use('grayscale')\n",
    "\n",
    "for i in range(0,len(image_names)):\n",
    "    plt.subplot(1,3,i+1)\n",
    "    plt.title(image_names[i]+' masked image',fontsize=16)\n",
    "    plt.imshow(io.imread(os.path.join(test_dir, \"{}.tif\".format(image_names[i])))[0]) # first slice only\n",
    "    plt.axis('off')\n",
    "\n",
    "plt.show()\n"
   ]
  },
  {
   "cell_type": "markdown",
   "metadata": {},
   "source": [
    "## Assigning new grey values\n",
    "\n",
    "The grey values of the pixels in each mask were replaced with random values from Gaussian distributions of known $\\mu$ and $\\sigma$. "
   ]
  },
  {
   "cell_type": "code",
   "execution_count": null,
   "metadata": {},
   "outputs": [],
   "source": [
    "mu_phantom = [8, 35, 82] # phantom mu for air, wax, tissue\n",
    "sigma_phantom = [7, 6, 16] # phantom sigma for air, wax, tissue\n",
    "\n",
    "I_phantom = create_phantom.create_phantom(mu_phantom, sigma_phantom, test_dir)\n",
    "create_phantom.show_phantom(I_phantom)"
   ]
  },
  {
   "cell_type": "markdown",
   "metadata": {},
   "source": [
    "# Fitting Gaussian distributions\n",
    "\n",
    "SNR and CNR were calculated by fitting three Gaussian distributions to the phantom image stack histogram (one for each material). Firstly, the accuracy of the fitted Gaussian distributions was assessed by comparing the properties of the fitted and phantom distributions.\n",
    "\n",
    "Percentage error was calculated with the following equations:\n",
    "\n",
    "\\begin{equation*}\n",
    "\\% \\;error \\;in \\; \\mu= 100 \\cdot \\frac{\\mu_{phantom} - \\mu}{\\mu_{phantom}}\n",
    "\\end{equation*}\n",
    "\n",
    "\\begin{equation*}\n",
    "\\% \\;error \\;in \\; \\sigma = 100 \\cdot \\frac{\\sigma_{phantom} - \\sigma}{\\sigma_{phantom}}\n",
    "\\end{equation*}"
   ]
  },
  {
   "cell_type": "code",
   "execution_count": null,
   "metadata": {},
   "outputs": [],
   "source": [
    "mu_fitted, sigma_fitted = QM_fit.QM_fit(I_phantom, 3, img_fname = \"NA\", save_results = False) # fit Gaussian distributions\n",
    "\n",
    "pct_diff_mu = map(calc_pct_diff, mu_phantom, mu_fitted) # calculate % diff in mu\n",
    "pct_diff_sigma = map(calc_pct_diff, sigma_phantom, sigma_fitted) # calculate % diff in sigma\n",
    "\n",
    "# Display results\n",
    "df = pd.DataFrame([pct_diff_mu, pct_diff_sigma], \n",
    "                  index = [\"% difference $\\mu$\",\"% difference $\\sigma$\"], \n",
    "                  columns = [\"Air\", \"Wax\", \"Tissue\"]) # convert to pandas df for pretty displays\n",
    "df_style = df.style.set_caption(\"Percentage Difference between Fitted and Phantom Distributions\")\n",
    "display(df_style)\n"
   ]
  },
  {
   "cell_type": "markdown",
   "metadata": {},
   "source": [
    "# Calculating image quality\n",
    "\n",
    "The Gaussian distributions were used to calculate SNR and CNR between Gaussians A and B, where A and B were all the different combinations of fitted Gaussians. Here we have three materials represented in the image, so 3 Gaussians were fitted and SNR was calculated between all of them.\n",
    "\n",
    "$$ SNR = \\frac{\\mu_{A}}{\\sigma_{B}}  $$\n",
    "\n",
    "$$ CNR = \\frac{\\mu_{A} - \\mu_{B}}{\\sqrt{\\sigma_{A}^2 + \\sigma_{B}^2}} $$\n",
    "\n",
    "In this case, Gaussian 0 was air, Gaussian 1 was wax and Gaussian 2 was tissue."
   ]
  },
  {
   "cell_type": "code",
   "execution_count": null,
   "metadata": {},
   "outputs": [],
   "source": [
    "SNR_CNR_df = QM_calc.QM_calc(mu_fitted, sigma_fitted, out_dir = \"NA\", save_results = False)"
   ]
  },
  {
   "cell_type": "markdown",
   "metadata": {},
   "source": [
    "# Manipulating phantom distributions\n",
    "\n",
    "The grey value distributions of the phantom image affect the accuracy of the fitted Gaussian distributions and the image quality. Below is an interactive model where the means and standard deviations of the three distributions in the phantoms can be set. Run the following cell and adjust the values of $\\mu$ and $\\sigma$.\n"
   ]
  },
  {
   "cell_type": "code",
   "execution_count": null,
   "metadata": {},
   "outputs": [],
   "source": [
    "mu_0 = widgets.IntSlider(description = '$\\mu_0$', min = 0, max = 255)\n",
    "mu_1 = widgets.IntSlider(description = '$\\mu_1$', min = 0, max = 255)\n",
    "mu_2 = widgets.IntSlider(description = '$\\mu_2$', min = 0, max = 255)\n",
    "\n",
    "sigma_0 = widgets.IntSlider(description = '$\\sigma_0$', min = 5, max = 50)\n",
    "sigma_1 = widgets.IntSlider(description = '$\\sigma_1$', min = 5, max = 50)\n",
    "sigma_2 = widgets.IntSlider(description = '$\\sigma_2$', min = 5, max = 50)\n",
    "\n",
    "mu_box = widgets.VBox([mu_0, mu_1, mu_2])\n",
    "sigma_box = widgets.VBox([sigma_0, sigma_1, sigma_2])  \n",
    "widgets.HBox([mu_box, sigma_box])"
   ]
  },
  {
   "cell_type": "markdown",
   "metadata": {},
   "source": [
    "## Determining fit accuracy and image quality\n",
    "\n",
    "Run the following cell to calculate the fit accuracy and image quality based on the grey value distributions chosen before.\n",
    "\n",
    "\\begin{equation*}\n",
    "\\% \\;error \\;in \\; \\mu= 100 \\cdot \\frac{\\mu_{interact} - \\mu}{\\mu_{interact}}\n",
    "\\end{equation*}\n",
    "\n",
    "\\begin{equation*}\n",
    "\\% \\;error \\;in \\; \\sigma = 100 \\cdot \\frac{\\sigma_{interact} - \\sigma}{\\sigma_{interact}}\n",
    "\\end{equation*}"
   ]
  },
  {
   "cell_type": "code",
   "execution_count": null,
   "metadata": {},
   "outputs": [],
   "source": [
    "mu_interact = [mu_0.value, mu_1.value, mu_2.value] # widget outputs\n",
    "sigma_interact = [sigma_0.value, sigma_1.value, sigma_2.value] # widget outputs\n",
    "\n",
    "# Create phantom\n",
    "I_phantom = create_phantom.create_phantom(mu_interact, sigma_interact, test_dir)\n",
    "create_phantom.show_phantom(I_phantom)\n",
    "\n",
    "# Fit GMM, calculate and display results\n",
    "mu_fitted, sigma_fitted = QM_fit.QM_fit(I_phantom, 3, img_fname = \"NA\", save_results = False) # fit Gaussian distributions\n",
    "pct_diff_mu = map(calc_pct_diff, mu_interact, mu_fitted) # calculate % diff in mu\n",
    "pct_diff_sigma = map(calc_pct_diff, sigma_interact, sigma_fitted) # calculate % diff in sigma\n",
    "\n",
    "SNR_CNR_df = QM_calc.QM_calc(mu_fitted, sigma_fitted, out_dir = \"NA\", save_results = False) # calc SNR and CNR\n",
    "\n",
    "# Display results\n",
    "df = pd.DataFrame([pct_diff_mu, pct_diff_sigma], \n",
    "                  index = [\"% difference $\\mu$\",\"% difference $\\sigma$\"], \n",
    "                  columns = [\"Air\", \"Wax\", \"Tissue\"]) # convert to pandas df for pretty displays\n",
    "df_style = df.style.set_caption(\"Percentage Difference between Fitted and Phantom Distributions\")\n",
    "display(df_style)"
   ]
  },
  {
   "cell_type": "markdown",
   "metadata": {},
   "source": [
    "## Effect of contrast on fit accuracy and image quality STOPPED HERE 04-12-2019\n",
    "\n",
    "The contrast between tissue and wax is the difference between means of the grey value distributions for tissue and wax. This can be altered by changing the mean of the grey value distribution for tissue. The following cell calculates the percentage difference in fitted and assigned $\\mu$ and $\\sigma$ for a range of $\\mu_{tissue}$ between 40 and 100. The grey value distributions of air and wax were kept constant at the following values:\n",
    "\n",
    "$\\mu_{air}$ = 8, $\\sigma_{air}$ = 7\n",
    "\n",
    "$\\mu_{wax}$ = 35, $\\sigma_{wax}$ = 6\n",
    "\n",
    "$\\mu_{tissue}$ = variable, $\\sigma_{tissue}$ = 17"
   ]
  },
  {
   "cell_type": "code",
   "execution_count": null,
   "metadata": {},
   "outputs": [
    {
     "name": "stdout",
     "output_type": "stream",
     "text": [
      "\n",
      "Creating phantom with mu of tissue = 60.0\n",
      "Phantom means are [8, 35, 60.0]\n",
      "Phantom standard deviations are [7, 6, 16]\n",
      "Phantom successfully created\n"
     ]
    }
   ],
   "source": [
    "# Define grey value distributions\n",
    "mu_tissue_contrast = np.linspace(60, 100, 5) # 10 values of mu for tissue between 40 and 100\n",
    "sigma_phantom = [7, 6, 16] # phantom sigma for air, tissue, wax\n",
    "pct_diff_mu_results = []\n",
    "pct_diff_sigma_results = []\n",
    "CNR = []\n",
    "\n",
    "for mu in mu_tissue_contrast:\n",
    "    # Create phantom\n",
    "    print(\"\\nCreating phantom with mu of tissue =\", mu)\n",
    "    mu_phantom = [8, 35, mu]\n",
    "    I_phantom = create_phantom.create_phantom(mu_phantom, sigma_phantom, test_dir)\n",
    "    \n",
    "    # Fit GMM, calculate results\n",
    "    mu_fitted, sigma_fitted = QM_fit.QM_fit(I_phantom, 3, img_fname = \"NA\", save_results = False, show_plots = False)\n",
    "    pct_diff_mu = list(map(calc_pct_diff, mu_phantom, mu_fitted)) # calculate % diff in mu\n",
    "    pct_diff_sigma = list(map(calc_pct_diff, sigma_phantom, sigma_fitted)) # calculate % diff in sigma\n",
    "    pct_diff_mu_results.append(pct_diff_mu)\n",
    "    pct_diff_sigma_results.append(pct_diff_sigma)\n",
    "    CNR.append((mu - 35)/np.sqrt(6**2 + 16**2))\n",
    "    "
   ]
  },
  {
   "cell_type": "markdown",
   "metadata": {},
   "source": [
    "The following cell plots the percentage differences in fitted and assigned $\\mu$ and $\\sigma$ for different values of $\\mu_{tissue}$. \n",
    "\n",
    "<b><u>Accuracy of fitted grey value distributions was found to increase as contrast increases (separation between tissue and wax distributions). The relationship between image quality Q and contrast was approximately linear, where Q and contrast were both determined between wax and tissue grey value distributions.</b></u>"
   ]
  },
  {
   "cell_type": "code",
   "execution_count": 1,
   "metadata": {},
   "outputs": [
    {
     "ename": "NameError",
     "evalue": "name 'contrast_plot' is not defined",
     "output_type": "error",
     "traceback": [
      "\u001b[1;31m---------------------------------------------------------------------------\u001b[0m",
      "\u001b[1;31mNameError\u001b[0m                                 Traceback (most recent call last)",
      "\u001b[1;32m<ipython-input-1-7bbb6a1c3972>\u001b[0m in \u001b[0;36m<module>\u001b[1;34m\u001b[0m\n\u001b[1;32m----> 1\u001b[1;33m \u001b[0mcontrast_plot\u001b[0m\u001b[1;33m(\u001b[0m\u001b[0mmu_tissue_contrast\u001b[0m\u001b[1;33m,\u001b[0m \u001b[0mpct_diff_mu_results\u001b[0m\u001b[1;33m,\u001b[0m \u001b[0mpct_diff_sigma_results\u001b[0m\u001b[1;33m,\u001b[0m \u001b[0mCNR\u001b[0m\u001b[1;33m)\u001b[0m\u001b[1;33m\u001b[0m\u001b[1;33m\u001b[0m\u001b[0m\n\u001b[0m",
      "\u001b[1;31mNameError\u001b[0m: name 'contrast_plot' is not defined"
     ]
    }
   ],
   "source": [
    "contrast_plot(mu_tissue_contrast, pct_diff_mu_results, pct_diff_sigma_results, CNR)"
   ]
  },
  {
   "cell_type": "markdown",
   "metadata": {},
   "source": [
    "## Effect of distribution spread on fit accuracy and image quality\n",
    "\n",
    "Distributions with large spreads (standard deviations) close to each other are more likely to overlap. Large areas of overlap between distributions reduce the accuracy of Gaussian distribution fitting and reduce image quality. The standard deviation of the grey value distributions were scaled by a factor of 0.1 to 2 and the means were kept constant. The assigned distributions are shown below:\n",
    "\n",
    "$\\sigma$ scaling factor is a value between 0.1 and 2.\n",
    "\n",
    "$\\mu_{air}$ = 8, $\\sigma_{air}$ = 7 x $\\sigma$ scaling factor\n",
    "\n",
    "$\\mu_{wax}$ = 35, $\\sigma_{wax}$ = 6 x $\\sigma$ scaling factor\n",
    "\n",
    "$\\mu_{tissue}$ = 82, $\\sigma_{tissue}$ = 17 x $\\sigma$ scaling factor\n"
   ]
  },
  {
   "cell_type": "code",
   "execution_count": null,
   "metadata": {},
   "outputs": [],
   "source": [
    "sigma_factor = np.linspace(0.1,2,20) # range of mu for tissue\n",
    "mu_phantom = [8, 35, 82] # phantom mu for air, tissue, wax\n",
    "pct_diff_mu = np.zeros((len(sigma_factor),3))\n",
    "pct_diff_sigma = np.zeros((len(sigma_factor),3))\n",
    "Q_spread = np.zeros((len(sigma_factor)))\n",
    "\n",
    "for i,sigma in enumerate(sigma_factor):\n",
    "    sigma_phantom = [7*sigma, 6*sigma, 17*sigma] # phantom mu for air, tissue, wax\n",
    "    diff_mu, diff_sigma, Q = create_phantom_shortcut(mu_phantom, sigma_phantom, output = False, return_vals = True)    \n",
    "    pct_diff_mu[i] = diff_mu\n",
    "    pct_diff_sigma[i] = diff_sigma\n",
    "    Q_spread[i] = Q"
   ]
  },
  {
   "cell_type": "markdown",
   "metadata": {},
   "source": [
    "The following cell plots the percentage differences in fitted and assigned $\\mu$ and $\\sigma$ for different values of $\\sigma$ scaling factor.\n",
    "\n",
    "<b><u>Accuracy of fitted grey value distributions was found to decrease as standard deviations of grey value distributions for each material increased. The relationship between image quality Q and standard deviation was found to be inversely variable, i.e. $Q = f(\\frac{k}{\\sigma scaling factor})$. Here, Q was calculated between tissue and wax grey value distributions.</b></u>"
   ]
  },
  {
   "cell_type": "code",
   "execution_count": null,
   "metadata": {},
   "outputs": [],
   "source": [
    "plt.figure(figsize = (15,5))\n",
    "sns.set_style('white')\n",
    "\n",
    "plt.subplot(1,3,1)\n",
    "plot_pct_diff(sigma_factor, pct_diff_mu, \"% Difference in $\\mu$\", \"$\\sigma$ scaling factor\")\n",
    "plt.subplot(1,3,2)\n",
    "plot_pct_diff(sigma_factor, pct_diff_sigma, \"% Difference in $\\sigma$\", \"$\\sigma$ scaling factor\")\n",
    "plt.subplot(1,3,3)\n",
    "plot_pct_diff(sigma_factor, Q_spread, \"Image quality Q\", \"$\\sigma$ scaling factor\", legend = False)"
   ]
  },
  {
   "cell_type": "code",
   "execution_count": null,
   "metadata": {},
   "outputs": [],
   "source": [
    "pct_diff_mu\n"
   ]
  },
  {
   "cell_type": "markdown",
   "metadata": {},
   "source": [
    "# Dependencies\n",
    "\n",
    "Dependencies to recreate this environment."
   ]
  },
  {
   "cell_type": "code",
   "execution_count": null,
   "metadata": {},
   "outputs": [],
   "source": [
    "%reload_ext watermark\n",
    "%watermark -v -m -p matplotlib,skimage,skimage.transform,numpy,sklearn.mixture,scipy.stats,pandas"
   ]
  },
  {
   "cell_type": "code",
   "execution_count": null,
   "metadata": {},
   "outputs": [],
   "source": []
  }
 ],
 "metadata": {
  "kernelspec": {
   "display_name": "Python 3",
   "language": "python",
   "name": "python3"
  },
  "language_info": {
   "codemirror_mode": {
    "name": "ipython",
    "version": 3
   },
   "file_extension": ".py",
   "mimetype": "text/x-python",
   "name": "python",
   "nbconvert_exporter": "python",
   "pygments_lexer": "ipython3",
   "version": "3.7.1"
  }
 },
 "nbformat": 4,
 "nbformat_minor": 2
}
